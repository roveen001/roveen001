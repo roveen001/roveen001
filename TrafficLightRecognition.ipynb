{
  "nbformat": 4,
  "nbformat_minor": 0,
  "metadata": {
    "colab": {
      "provenance": [],
      "mount_file_id": "1Fd3crgpIWExAqOxf1terWWaXly6PshzF",
      "authorship_tag": "ABX9TyNonxEgI00I4O/pdoc05OSu",
      "include_colab_link": true
    },
    "kernelspec": {
      "name": "python3",
      "display_name": "Python 3"
    },
    "language_info": {
      "name": "python"
    }
  },
  "cells": [
    {
      "cell_type": "markdown",
      "metadata": {
        "id": "view-in-github",
        "colab_type": "text"
      },
      "source": [
        "<a href=\"https://colab.research.google.com/github/roveen001/roveen001/blob/main/TrafficLightRecognition.ipynb\" target=\"_parent\"><img src=\"https://colab.research.google.com/assets/colab-badge.svg\" alt=\"Open In Colab\"/></a>"
      ]
    },
    {
      "cell_type": "code",
      "execution_count": 26,
      "metadata": {
        "id": "4KZ2SliPhIps"
      },
      "outputs": [],
      "source": [
        "import os\n",
        "import numpy as np\n",
        "import pandas as pd\n",
        "import random as rn\n",
        "from PIL import Image \n",
        "import seaborn as sns\n",
        "from pathlib import Path\n",
        "import tensorflow as tf\n",
        "import matplotlib.pyplot as plt \n",
        "from keras.optimizers import Adam\n",
        "from keras.regularizers import l1_l2\n",
        "from keras.models import Model, Sequential\n",
        "from keras.applications.vgg16 import VGG16, preprocess_input\n",
        "from keras.preprocessing.image import ImageDataGenerator\n",
        "from keras.callbacks import ModelCheckpoint, EarlyStopping\n",
        "from keras.layers import Conv2D, MaxPooling2D, Flatten, Dense, Dropout, Activation, BatchNormalization\n"
      ]
    },
    {
      "cell_type": "code",
      "source": [
        "# VGG16 Model \n",
        "model = VGG16()\n",
        "model.summary()"
      ],
      "metadata": {
        "colab": {
          "base_uri": "https://localhost:8080/"
        },
        "id": "FPV7UqUWhOzE",
        "outputId": "43329e7f-ab93-4260-e485-2edca2ca4057"
      },
      "execution_count": 27,
      "outputs": [
        {
          "output_type": "stream",
          "name": "stdout",
          "text": [
            "Model: \"vgg16\"\n",
            "_________________________________________________________________\n",
            " Layer (type)                Output Shape              Param #   \n",
            "=================================================================\n",
            " input_6 (InputLayer)        [(None, 224, 224, 3)]     0         \n",
            "                                                                 \n",
            " block1_conv1 (Conv2D)       (None, 224, 224, 64)      1792      \n",
            "                                                                 \n",
            " block1_conv2 (Conv2D)       (None, 224, 224, 64)      36928     \n",
            "                                                                 \n",
            " block1_pool (MaxPooling2D)  (None, 112, 112, 64)      0         \n",
            "                                                                 \n",
            " block2_conv1 (Conv2D)       (None, 112, 112, 128)     73856     \n",
            "                                                                 \n",
            " block2_conv2 (Conv2D)       (None, 112, 112, 128)     147584    \n",
            "                                                                 \n",
            " block2_pool (MaxPooling2D)  (None, 56, 56, 128)       0         \n",
            "                                                                 \n",
            " block3_conv1 (Conv2D)       (None, 56, 56, 256)       295168    \n",
            "                                                                 \n",
            " block3_conv2 (Conv2D)       (None, 56, 56, 256)       590080    \n",
            "                                                                 \n",
            " block3_conv3 (Conv2D)       (None, 56, 56, 256)       590080    \n",
            "                                                                 \n",
            " block3_pool (MaxPooling2D)  (None, 28, 28, 256)       0         \n",
            "                                                                 \n",
            " block4_conv1 (Conv2D)       (None, 28, 28, 512)       1180160   \n",
            "                                                                 \n",
            " block4_conv2 (Conv2D)       (None, 28, 28, 512)       2359808   \n",
            "                                                                 \n",
            " block4_conv3 (Conv2D)       (None, 28, 28, 512)       2359808   \n",
            "                                                                 \n",
            " block4_pool (MaxPooling2D)  (None, 14, 14, 512)       0         \n",
            "                                                                 \n",
            " block5_conv1 (Conv2D)       (None, 14, 14, 512)       2359808   \n",
            "                                                                 \n",
            " block5_conv2 (Conv2D)       (None, 14, 14, 512)       2359808   \n",
            "                                                                 \n",
            " block5_conv3 (Conv2D)       (None, 14, 14, 512)       2359808   \n",
            "                                                                 \n",
            " block5_pool (MaxPooling2D)  (None, 7, 7, 512)         0         \n",
            "                                                                 \n",
            " flatten (Flatten)           (None, 25088)             0         \n",
            "                                                                 \n",
            " fc1 (Dense)                 (None, 4096)              102764544 \n",
            "                                                                 \n",
            " fc2 (Dense)                 (None, 4096)              16781312  \n",
            "                                                                 \n",
            " predictions (Dense)         (None, 1000)              4097000   \n",
            "                                                                 \n",
            "=================================================================\n",
            "Total params: 138,357,544\n",
            "Trainable params: 138,357,544\n",
            "Non-trainable params: 0\n",
            "_________________________________________________________________\n"
          ]
        }
      ]
    },
    {
      "cell_type": "code",
      "source": [],
      "metadata": {
        "id": "LM2zBJjVhnUe"
      },
      "execution_count": 36,
      "outputs": []
    },
    {
      "cell_type": "code",
      "source": [],
      "metadata": {
        "id": "4puSyvcGO3RU"
      },
      "execution_count": 3,
      "outputs": []
    },
    {
      "cell_type": "markdown",
      "source": [
        "# Image pre-processing and **Augmentation** "
      ],
      "metadata": {
        "id": "yK3WwLzx0Nzg"
      }
    },
    {
      "cell_type": "code",
      "source": [],
      "metadata": {
        "id": "lZtsCm07x1UB"
      },
      "execution_count": null,
      "outputs": []
    },
    {
      "cell_type": "code",
      "source": [
        "BATCH_SIZE = 150 #43 \n",
        "HEIGHT, WIDTH = 50,50 \n",
        "#128\n",
        "SEED = 42\n",
        "CHANNELS = 3\n",
        "\n",
        "# naming the classes\n",
        "classes = {0:'Speed limit (20km/h)',\n",
        "            1:'Speed limit (30km/h)', \n",
        "            2:'Speed limit (50km/h)', \n",
        "            3:'Speed limit (60km/h)', \n",
        "            4:'Speed limit (70km/h)', \n",
        "            5:'Speed limit (80km/h)', \n",
        "            6:'End of speed limit (80km/h)', \n",
        "            7:'Speed limit (100km/h)', \n",
        "            8:'Speed limit (120km/h)', \n",
        "            9:'No passing', \n",
        "            10:'No passing veh over 3.5 tons', \n",
        "            11:'Right-of-way at intersection', \n",
        "            12:'Priority road', \n",
        "            13:'Yield', \n",
        "            14:'Stop', \n",
        "            15:'No vehicles', \n",
        "            16:'Veh > 3.5 tons prohibited', \n",
        "            17:'No entry', \n",
        "            18:'General caution', \n",
        "            19:'Dangerous curve left', \n",
        "            20:'Dangerous curve right', \n",
        "            21:'Double curve', \n",
        "            22:'Bumpy road', \n",
        "            23:'Slippery road', \n",
        "            24:'Road narrows on the right', \n",
        "            25:'Road work', \n",
        "            26:'Traffic signals', \n",
        "            27:'Pedestrians', \n",
        "            28:'Children crossing', \n",
        "            29:'Bicycles crossing', \n",
        "            30:'Beware of ice/snow',\n",
        "            31:'Wild animals crossing', \n",
        "            32:'End speed + passing limits', \n",
        "            33:'Turn right ahead', \n",
        "            34:'Turn left ahead', \n",
        "            35:'Ahead only', \n",
        "            36:'Go straight or right', \n",
        "            37:'Go straight or left', \n",
        "            38:'Keep right', \n",
        "            39:'Keep left', \n",
        "            40:'Roundabout mandatory', \n",
        "            41:'End of no passing', \n",
        "            42:'End no passing veh > 3.5 tons' }\n"
      ],
      "metadata": {
        "id": "uuKo9npchs2F"
      },
      "execution_count": 28,
      "outputs": []
    },
    {
      "cell_type": "code",
      "source": [
        "train_generator = ImageDataGenerator(rescale = 1./255,\n",
        "                                     #rotation_range=90,\n",
        "                                     validation_split=0.2,\n",
        "                                     #brightness_range=[0.1, 0.7],\n",
        "                                     #width_shift_range=0.5, \n",
        "                                     #height_shift_range=0.5,\n",
        "                                     #horizontal_flip=True, \n",
        "                                     #vertical_flip=True,\n",
        "                                     preprocessing_function=preprocess_input) # VGG16 preprocessing\n",
        "\n",
        "test_generator = ImageDataGenerator(preprocessing_function=preprocess_input) "
      ],
      "metadata": {
        "id": "rBqYcZhmp3cV"
      },
      "execution_count": 29,
      "outputs": []
    },
    {
      "cell_type": "markdown",
      "source": [
        "# Train and Validataion \n",
        "## Using Keras Data Generators"
      ],
      "metadata": {
        "id": "HYZ4smxtYZ45"
      }
    },
    {
      "cell_type": "code",
      "source": [
        "# lets define the output dir path\n",
        "data_dir = Path('drive/MyDrive/archive/Meta')\n",
        "train_dir = Path('drive/MyDrive/archive/Train')\n",
        "test_dir = Path('drive/MyDrive/archive/Test')"
      ],
      "metadata": {
        "id": "XJ6RG2pWkH2t"
      },
      "execution_count": 30,
      "outputs": []
    },
    {
      "cell_type": "code",
      "source": [
        "traingen = train_generator.flow_from_directory(train_dir,\n",
        "                                               target_size=(HEIGHT,WIDTH),\n",
        "                                               class_mode='categorical',\n",
        "                                               interpolation='bilinear',\n",
        "                                               subset='training',\n",
        "                                               batch_size=BATCH_SIZE, \n",
        "                                               shuffle=True,\n",
        "                                               seed=SEED)\n",
        "\n",
        "validgen = train_generator.flow_from_directory(train_dir,\n",
        "                                               target_size=(HEIGHT,WIDTH),\n",
        "                                               class_mode='categorical',\n",
        "                                               interpolation='bilinear',\n",
        "                                               subset='validation',\n",
        "                                               batch_size=BATCH_SIZE,\n",
        "                                               shuffle=True,\n",
        "                                               seed=SEED)\n",
        "\n",
        "#testgen = test_generator.flow_from_directory(test_dir,\n",
        "#                                             target_size=(HEIGHT,WIDTH),\n",
        "#                                             class_mode='categorical',\n",
        "#                                             batch_size=1,\n",
        "#                                             shuffle=False,\n",
        "#                                             seed=SEED)"
      ],
      "metadata": {
        "colab": {
          "base_uri": "https://localhost:8080/"
        },
        "id": "Lw1urFIhp703",
        "outputId": "4843b852-27ab-4b6e-c2ed-a429d3e4fb9b"
      },
      "execution_count": 31,
      "outputs": [
        {
          "output_type": "stream",
          "name": "stdout",
          "text": [
            "Found 7337 images belonging to 43 classes.\n",
            "Found 1834 images belonging to 43 classes.\n"
          ]
        }
      ]
    },
    {
      "cell_type": "code",
      "source": [
        "#display the images\n",
        "fig,ax=plt.subplots(3,4)\n",
        "fig.set_size_inches(16,12)\n",
        "img,y = traingen.next()\n",
        "for i in range(3):\n",
        "    for j in range (4):\n",
        "        l=rn.randint(0,BATCH_SIZE-1)\n",
        "        label = classes[int(list(traingen.class_indices.keys())[np.argmax(y[l])])]\n",
        "        ax[i,j].imshow(img[l])\n",
        "        ax[i,j].set_title(label)\n",
        "\n",
        "plt.tight_layout()\n"
      ],
      "metadata": {
        "colab": {
          "base_uri": "https://localhost:8080/",
          "height": 1000
        },
        "id": "dR-k8nE1ht21",
        "outputId": "ae0214b9-15db-4039-cf79-c9d7a9dfb2fa"
      },
      "execution_count": 32,
      "outputs": [
        {
          "output_type": "stream",
          "name": "stderr",
          "text": [
            "WARNING:matplotlib.image:Clipping input data to the valid range for imshow with RGB data ([0..1] for floats or [0..255] for integers).\n",
            "WARNING:matplotlib.image:Clipping input data to the valid range for imshow with RGB data ([0..1] for floats or [0..255] for integers).\n",
            "WARNING:matplotlib.image:Clipping input data to the valid range for imshow with RGB data ([0..1] for floats or [0..255] for integers).\n",
            "WARNING:matplotlib.image:Clipping input data to the valid range for imshow with RGB data ([0..1] for floats or [0..255] for integers).\n",
            "WARNING:matplotlib.image:Clipping input data to the valid range for imshow with RGB data ([0..1] for floats or [0..255] for integers).\n",
            "WARNING:matplotlib.image:Clipping input data to the valid range for imshow with RGB data ([0..1] for floats or [0..255] for integers).\n",
            "WARNING:matplotlib.image:Clipping input data to the valid range for imshow with RGB data ([0..1] for floats or [0..255] for integers).\n",
            "WARNING:matplotlib.image:Clipping input data to the valid range for imshow with RGB data ([0..1] for floats or [0..255] for integers).\n",
            "WARNING:matplotlib.image:Clipping input data to the valid range for imshow with RGB data ([0..1] for floats or [0..255] for integers).\n",
            "WARNING:matplotlib.image:Clipping input data to the valid range for imshow with RGB data ([0..1] for floats or [0..255] for integers).\n",
            "WARNING:matplotlib.image:Clipping input data to the valid range for imshow with RGB data ([0..1] for floats or [0..255] for integers).\n",
            "WARNING:matplotlib.image:Clipping input data to the valid range for imshow with RGB data ([0..1] for floats or [0..255] for integers).\n"
          ]
        },
        {
          "output_type": "display_data",
          "data": {
            "text/plain": [
              "<Figure size 1152x864 with 12 Axes>"
            ],
            "image/png": "[encoded data removed]"
          },
          "metadata": {
            "needs_background": "light"
          }
        }
      ]
    },
    {
      "cell_type": "code",
      "source": [
        "# model\n",
        "\n"
      ],
      "metadata": {
        "id": "Y27owjz6uqL-"
      },
      "execution_count": 8,
      "outputs": []
    },
    {
      "cell_type": "markdown",
      "source": [
        "# Feature Extraction\n",
        "Without using fine tuining"
      ],
      "metadata": {
        "id": "z-KwU-obUeNX"
      }
    },
    {
      "cell_type": "code",
      "source": [
        "vgg_model = Sequential([VGG16(weights='imagenet',include_top=False, input_shape=(HEIGHT,WIDTH,3)),\n",
        "                        # start from the given dimension\n",
        "                        # ßConv2D(filters=128, kernel_size=(3,3), activation='relu'),\n",
        "                        # MaxPooling2D(pool_size=(2, 2)),\n",
        "                        BatchNormalization(),\n",
        "                        \n",
        "                        Flatten(),\n",
        "                        Dense(512, activation='relu'),\n",
        "                        BatchNormalization(),\n",
        "                        Dropout(rate=0.5),\n",
        "                      \n",
        "                        Dense(43, activation='softmax')\n",
        "                        \n",
        "                        ])\n",
        "                        \n",
        "                        \n",
        "vgg_model.summary()"
      ],
      "metadata": {
        "id": "Vx1bdFKxtdLD",
        "colab": {
          "base_uri": "https://localhost:8080/"
        },
        "outputId": "b8e449bd-4e79-4ae8-bc78-252ed2214e71"
      },
      "execution_count": 34,
      "outputs": [
        {
          "output_type": "stream",
          "name": "stdout",
          "text": [
            "Model: \"sequential_5\"\n",
            "_________________________________________________________________\n",
            " Layer (type)                Output Shape              Param #   \n",
            "=================================================================\n",
            " vgg16 (Functional)          (None, 1, 1, 512)         14714688  \n",
            "                                                                 \n",
            " batch_normalization_10 (Bat  (None, 1, 1, 512)        2048      \n",
            " chNormalization)                                                \n",
            "                                                                 \n",
            " flatten_5 (Flatten)         (None, 512)               0         \n",
            "                                                                 \n",
            " dense_10 (Dense)            (None, 512)               262656    \n",
            "                                                                 \n",
            " batch_normalization_11 (Bat  (None, 512)              2048      \n",
            " chNormalization)                                                \n",
            "                                                                 \n",
            " dropout_5 (Dropout)         (None, 512)               0         \n",
            "                                                                 \n",
            " dense_11 (Dense)            (None, 43)                22059     \n",
            "                                                                 \n",
            "=================================================================\n",
            "Total params: 15,003,499\n",
            "Trainable params: 15,001,451\n",
            "Non-trainable params: 2,048\n",
            "_________________________________________________________________\n"
          ]
        }
      ]
    },
    {
      "cell_type": "code",
      "source": [
        "# loading the pre-trained model\n",
        "OPTIM1=Adam(learning_rate=0.001)\n",
        "# NTRAIN_STEPS = traingen.samples // BATCH_SIZE\n",
        "# NVALID_STEPS = validgen.samples // BATCH_SIZE\n",
        "\n",
        "EPOCHS = 15\n",
        "#NCLASSES = 43\n",
        "\n",
        "\n",
        "#get the traning model\n",
        "vgg_model.compile(optimizer=OPTIM1, loss='categorical_crossentropy', metrics=['accuracy'])"
      ],
      "metadata": {
        "id": "_gkmRPhpU0HB"
      },
      "execution_count": 38,
      "outputs": []
    },
    {
      "cell_type": "code",
      "source": [
        "vgg_history = vgg_model.fit(traingen,\n",
        "                            steps_per_epoch=len(traingen),\n",
        "                            epochs=EPOCHS, \n",
        "                            validation_data=validgen,\n",
        "                            validation_steps=len(validgen))"
      ],
      "metadata": {
        "colab": {
          "base_uri": "https://localhost:8080/"
        },
        "id": "Pi4o9Fs_hxfX",
        "outputId": "3be7aa57-8637-44fa-bd52-050de3722ff9"
      },
      "execution_count": 39,
      "outputs": [
        {
          "output_type": "stream",
          "name": "stdout",
          "text": [
            "Epoch 1/15\n",
            "49/49 [==============================] - 1245s 25s/step - loss: 3.3872 - accuracy: 0.2327 - val_loss: 2516.5559 - val_accuracy: 0.0000e+00\n",
            "Epoch 2/15\n",
            "49/49 [==============================] - 940s 19s/step - loss: 1.6818 - accuracy: 0.4749 - val_loss: 27.0457 - val_accuracy: 0.2257\n",
            "Epoch 3/15\n",
            "49/49 [==============================] - 950s 19s/step - loss: 1.0822 - accuracy: 0.6256 - val_loss: 40.4587 - val_accuracy: 0.2257\n",
            "Epoch 4/15\n",
            "49/49 [==============================] - 966s 20s/step - loss: 0.6545 - accuracy: 0.7701 - val_loss: 52.6746 - val_accuracy: 0.2257\n",
            "Epoch 5/15\n",
            "49/49 [==============================] - 968s 20s/step - loss: 0.3605 - accuracy: 0.8794 - val_loss: 49.0193 - val_accuracy: 0.2257\n",
            "Epoch 6/15\n",
            "49/49 [==============================] - 951s 19s/step - loss: 0.2369 - accuracy: 0.9178 - val_loss: 45.6912 - val_accuracy: 0.2257\n",
            "Epoch 7/15\n",
            "49/49 [==============================] - 942s 19s/step - loss: 0.1578 - accuracy: 0.9497 - val_loss: 37.0521 - val_accuracy: 0.2257\n",
            "Epoch 8/15\n",
            "49/49 [==============================] - 951s 19s/step - loss: 0.1158 - accuracy: 0.9614 - val_loss: 31.4948 - val_accuracy: 0.2257\n",
            "Epoch 9/15\n",
            "49/49 [==============================] - 944s 19s/step - loss: 0.1013 - accuracy: 0.9696 - val_loss: 20.3046 - val_accuracy: 0.2257\n",
            "Epoch 10/15\n",
            "49/49 [==============================] - 945s 19s/step - loss: 0.0527 - accuracy: 0.9836 - val_loss: 16.6583 - val_accuracy: 0.2257\n",
            "Epoch 11/15\n",
            "49/49 [==============================] - 944s 19s/step - loss: 0.0396 - accuracy: 0.9873 - val_loss: 2.8304 - val_accuracy: 0.3222\n",
            "Epoch 12/15\n",
            "49/49 [==============================] - 929s 19s/step - loss: 0.0305 - accuracy: 0.9907 - val_loss: 9.5822 - val_accuracy: 0.2257\n",
            "Epoch 13/15\n",
            "49/49 [==============================] - 931s 19s/step - loss: 0.0259 - accuracy: 0.9925 - val_loss: 5.0446 - val_accuracy: 0.2470\n",
            "Epoch 14/15\n",
            "49/49 [==============================] - 934s 19s/step - loss: 0.0388 - accuracy: 0.9862 - val_loss: 3.0341 - val_accuracy: 0.3402\n",
            "Epoch 15/15\n",
            "49/49 [==============================] - 920s 19s/step - loss: 0.0271 - accuracy: 0.9914 - val_loss: 3.8581 - val_accuracy: 0.2917\n"
          ]
        }
      ]
    },
    {
      "cell_type": "markdown",
      "source": [
        "# Performance\n"
      ],
      "metadata": {
        "id": "Vp-U5yOH0b2X"
      }
    },
    {
      "cell_type": "code",
      "source": [
        "fig,ax=plt.subplots(1,2)\n",
        "fig.set_size_inches(16,12)\n",
        "performance = pd.DataFrame(vgg_history.history)\n",
        "plt.figure(figsize=(10,7))\n",
        "ax[1].plot(performance[['loss','val_loss']])\n",
        "ax[1].legend(['Training Loss', 'Validation Loss'])\n",
        "ax[1].set_title('Model Loss')\n",
        "ax[1].set_xlabel('Epochs')\n",
        "ax[1].set_ylabel('Loss')\n",
        "ax[1].set_ylim(0,1)\n",
        "ax[0].plot(performance[['accuracy','val_accuracy']])\n",
        "ax[0].legend(['Training Accuracy', 'Validation Accuracy'])\n",
        "ax[0].set_title('Model Accuracy')\n",
        "ax[0].set_xlabel('Epochs')\n",
        "ax[0].set_ylabel('Accuracy')\n",
        "ax[0].set_ylim(0.5,1)\n",
        "fig.suptitle('Custom CNN Performance')\n",
        "plt.show()"
      ],
      "metadata": {
        "id": "HXj8sQCO0d9C"
      },
      "execution_count": null,
      "outputs": []
    },
    {
      "cell_type": "code",
      "source": [],
      "metadata": {
        "id": "0w9UOebcCB62"
      },
      "execution_count": null,
      "outputs": []
    },
    {
      "cell_type": "code",
      "source": [],
      "metadata": {
        "id": "eTvDmfEdEgiY"
      },
      "execution_count": null,
      "outputs": []
    }
  ]
}